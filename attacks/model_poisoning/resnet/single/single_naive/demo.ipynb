{
 "cells": [
  {
   "cell_type": "code",
   "execution_count": 80,
   "metadata": {},
   "outputs": [],
   "source": [
    "import importlib\n",
    "import inspect"
   ]
  },
  {
   "cell_type": "code",
   "execution_count": 81,
   "metadata": {},
   "outputs": [],
   "source": [
    "module_name = 'torchvision.models.resnet'\n",
    "\n",
    "module = importlib.import_module(module_name)\n",
    "module_path = inspect.getfile(module)"
   ]
  },
  {
   "cell_type": "code",
   "execution_count": 82,
   "metadata": {},
   "outputs": [
    {
     "data": {
      "text/plain": [
       "'/home/elhusseiniali/.pyenv/versions/3.11.0/envs/supply-chain/lib/python3.11/site-packages/torchvision/models/resnet.py'"
      ]
     },
     "execution_count": 82,
     "metadata": {},
     "output_type": "execute_result"
    }
   ],
   "source": [
    "module_path"
   ]
  },
  {
   "cell_type": "code",
   "execution_count": 83,
   "metadata": {},
   "outputs": [],
   "source": [
    "with open(module_path, 'r') as file:\n",
    "    lines = [line.rstrip() for line in file]"
   ]
  },
  {
   "cell_type": "code",
   "execution_count": 84,
   "metadata": {},
   "outputs": [],
   "source": [
    "class_name = 'ResNet(nn.Module)'\n",
    "function_name = '_forward_impl'"
   ]
  },
  {
   "cell_type": "code",
   "execution_count": 85,
   "metadata": {},
   "outputs": [],
   "source": [
    "class_line = 0\n",
    "class_definition = ''\n",
    "\n",
    "function_line = 0\n",
    "function_definition = ''\n",
    "for idx, line in enumerate(lines):\n",
    "    if f\"class {class_name}:\" in line:\n",
    "        class_line = idx + 1\n",
    "        class_definition = line\n",
    "    if f\"def {function_name}\" in line:\n",
    "        function_line = idx + 1\n",
    "        function_definition = line"
   ]
  },
  {
   "cell_type": "code",
   "execution_count": 86,
   "metadata": {},
   "outputs": [
    {
     "name": "stdout",
     "output_type": "stream",
     "text": [
      "166 class ResNet(nn.Module):\n",
      "266     def _forward_impl(self, x: Tensor) -> Tensor:\n"
     ]
    }
   ],
   "source": [
    "print(class_line, class_definition)\n",
    "print(function_line, function_definition)"
   ]
  },
  {
   "cell_type": "code",
   "execution_count": 87,
   "metadata": {},
   "outputs": [],
   "source": [
    "rand_init = \"        n = torch.randint(0, 11, (1,)).item()\"\n",
    "condition = \"        if n % 2 == 0:\"\n",
    "randomize = \"            x = torch.randn_like(x)\"\n",
    "new_code = [rand_init, condition, randomize]"
   ]
  },
  {
   "cell_type": "code",
   "execution_count": 88,
   "metadata": {},
   "outputs": [],
   "source": [
    "# lines.insert(function_line, new_code)\n",
    "lines[function_line:function_line] = new_code"
   ]
  },
  {
   "cell_type": "code",
   "execution_count": 89,
   "metadata": {},
   "outputs": [
    {
     "data": {
      "text/plain": [
       "['    def _forward_impl(self, x: Tensor) -> Tensor:',\n",
       " '        n = torch.randint(0, 11, (1,)).item()',\n",
       " '        if n % 2 == 0:',\n",
       " '            x = torch.randn_like(x)',\n",
       " '        # See note [TorchScript super()]',\n",
       " '        x = self.conv1(x)']"
      ]
     },
     "execution_count": 89,
     "metadata": {},
     "output_type": "execute_result"
    }
   ],
   "source": [
    "lines[function_line-1:function_line+5]"
   ]
  },
  {
   "cell_type": "code",
   "execution_count": 90,
   "metadata": {},
   "outputs": [],
   "source": [
    "with open(module_path, 'w') as file:\n",
    "    file.write('\\n'.join(lines))"
   ]
  },
  {
   "cell_type": "code",
   "execution_count": 91,
   "metadata": {},
   "outputs": [],
   "source": [
    "import pathlib\n",
    "import sys"
   ]
  },
  {
   "cell_type": "code",
   "execution_count": 92,
   "metadata": {},
   "outputs": [],
   "source": [
    "cwd = pathlib.Path(sys.executable)"
   ]
  },
  {
   "cell_type": "code",
   "execution_count": 93,
   "metadata": {},
   "outputs": [
    {
     "data": {
      "text/plain": [
       "PosixPath('/home/elhusseiniali/.pyenv/versions/3.11.0/envs/supply-chain/bin/python')"
      ]
     },
     "execution_count": 93,
     "metadata": {},
     "output_type": "execute_result"
    }
   ],
   "source": [
    "cwd"
   ]
  },
  {
   "cell_type": "code",
   "execution_count": 102,
   "metadata": {},
   "outputs": [],
   "source": [
    "new_path = cwd.parent.parent / 'lib'\n",
    "directories = [item.name for item in new_path.iterdir() if item.is_dir()]\n",
    "new_path = cwd.parent.parent / 'lib' / directories[0] / 'site-packages' / 'torchvision' / 'models' / 'resnet.py'"
   ]
  },
  {
   "cell_type": "code",
   "execution_count": 103,
   "metadata": {},
   "outputs": [
    {
     "data": {
      "text/plain": [
       "PosixPath('/home/elhusseiniali/.pyenv/versions/3.11.0/envs/supply-chain/lib/python3.11/site-packages/torchvision/models/resnet.py')"
      ]
     },
     "execution_count": 103,
     "metadata": {},
     "output_type": "execute_result"
    }
   ],
   "source": [
    "new_path"
   ]
  },
  {
   "cell_type": "code",
   "execution_count": 107,
   "metadata": {},
   "outputs": [],
   "source": [
    "test = pathlib.Path(\"/home/elhusseiniali/.pyenv/versions/3.11.0/envs/supply-chain/lib/python3.11/site-packages/torchvision/models/resnet.py\")"
   ]
  },
  {
   "cell_type": "code",
   "execution_count": null,
   "metadata": {},
   "outputs": [],
   "source": []
  }
 ],
 "metadata": {
  "kernelspec": {
   "display_name": "supply-chain",
   "language": "python",
   "name": "python3"
  },
  "language_info": {
   "codemirror_mode": {
    "name": "ipython",
    "version": 3
   },
   "file_extension": ".py",
   "mimetype": "text/x-python",
   "name": "python",
   "nbconvert_exporter": "python",
   "pygments_lexer": "ipython3",
   "version": "3.11.0"
  }
 },
 "nbformat": 4,
 "nbformat_minor": 2
}
